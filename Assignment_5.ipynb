{
 "cells": [
  {
   "cell_type": "markdown",
   "id": "7ae3162e",
   "metadata": {},
   "source": [
    "1. What does an empty dictionary&#39;s code look like?"
   ]
  },
  {
   "cell_type": "code",
   "execution_count": 3,
   "id": "355b6ab3",
   "metadata": {},
   "outputs": [
    {
     "name": "stdout",
     "output_type": "stream",
     "text": [
      "<class 'dict'>\n",
      "<class 'dict'>\n"
     ]
    }
   ],
   "source": [
    "# we can create a empty dict by using curly brackets {}\n",
    "a={}\n",
    "print(type(a))\n",
    " #or\n",
    "b=dict()\n",
    "print(type(b))"
   ]
  },
  {
   "cell_type": "markdown",
   "id": "4a8ddc53",
   "metadata": {},
   "source": [
    "2. What is the value of a dictionary value with the key &#39;foo&#39; and the value 42?"
   ]
  },
  {
   "cell_type": "code",
   "execution_count": 4,
   "id": "79aaee0e",
   "metadata": {},
   "outputs": [
    {
     "data": {
      "text/plain": [
       "{'foo': 42}"
      ]
     },
     "execution_count": 4,
     "metadata": {},
     "output_type": "execute_result"
    }
   ],
   "source": [
    "{'foo':42}"
   ]
  },
  {
   "cell_type": "markdown",
   "id": "96e1b3ab",
   "metadata": {},
   "source": [
    "3. What is the most significant distinction between a dictionary and a list?"
   ]
  },
  {
   "cell_type": "code",
   "execution_count": 5,
   "id": "cc950d0d",
   "metadata": {},
   "outputs": [],
   "source": [
    "#list stores element in order where dictionary stores elemetns in key value pair\n",
    "# in list we can access element by using index values where in dictionary we can access ele by using key"
   ]
  },
  {
   "cell_type": "markdown",
   "id": "45a3b351",
   "metadata": {},
   "source": [
    "4. What happens if you try to access spam[&#39;foo&#39;] if spam is {&#39;bar&#39;: 100}?"
   ]
  },
  {
   "cell_type": "code",
   "execution_count": 9,
   "id": "76ea3a37",
   "metadata": {},
   "outputs": [
    {
     "ename": "KeyError",
     "evalue": "'foo'",
     "output_type": "error",
     "traceback": [
      "\u001b[1;31m---------------------------------------------------------------------------\u001b[0m",
      "\u001b[1;31mKeyError\u001b[0m                                  Traceback (most recent call last)",
      "Cell \u001b[1;32mIn[9], line 3\u001b[0m\n\u001b[0;32m      1\u001b[0m \u001b[38;5;66;03m#it will show a key error if we try to access any key which is not available in dictionary\u001b[39;00m\n\u001b[0;32m      2\u001b[0m spam\u001b[38;5;241m=\u001b[39m {\u001b[38;5;124m'\u001b[39m\u001b[38;5;124mbar\u001b[39m\u001b[38;5;124m'\u001b[39m: \u001b[38;5;241m100\u001b[39m}\n\u001b[1;32m----> 3\u001b[0m spam[\u001b[38;5;124m'\u001b[39m\u001b[38;5;124mfoo\u001b[39m\u001b[38;5;124m'\u001b[39m]\n",
      "\u001b[1;31mKeyError\u001b[0m: 'foo'"
     ]
    }
   ],
   "source": [
    "#it will show a key error if we try to access any key which is not available in dictionary\n",
    "spam= {'bar': 100}\n",
    "spam['foo']"
   ]
  },
  {
   "cell_type": "markdown",
   "id": "7b7534ab",
   "metadata": {},
   "source": [
    "5. If a dictionary is stored in spam, what is the difference between the expressions &#39;cat&#39; in spam and\n",
    "&#39;cat&#39; in spam.keys()?"
   ]
  },
  {
   "cell_type": "code",
   "execution_count": 17,
   "id": "f205e845",
   "metadata": {},
   "outputs": [],
   "source": [
    "# for 'cat' in spam it will return a boolean value True or false if it exists as a key or a value\n",
    "# if we use 'cat' in spam.keys() it will check that the key exists into the dictionary"
   ]
  },
  {
   "cell_type": "markdown",
   "id": "e5944c21",
   "metadata": {},
   "source": [
    "7. What is a shortcut for the following code?"
   ]
  },
  {
   "cell_type": "markdown",
   "id": "52abf6ce",
   "metadata": {},
   "source": [
    "if &#39;color&#39; not in spam:\n",
    "\n",
    "spam[&#39;color&#39;] = &#39;black&#39;"
   ]
  },
  {
   "cell_type": "code",
   "execution_count": 25,
   "id": "9fc129ed",
   "metadata": {},
   "outputs": [
    {
     "name": "stdout",
     "output_type": "stream",
     "text": [
      "{'car': 'xyz', 'color': 'black'}\n"
     ]
    }
   ],
   "source": [
    "#shortcut\n",
    "spam={\"car\":\"xyz\"}\n",
    "spam[\"color\"]=\"black\" \n",
    "print(spam)"
   ]
  },
  {
   "cell_type": "markdown",
   "id": "63d78e08",
   "metadata": {},
   "source": [
    "8. How do you &quot;pretty print&quot; dictionary values using which module and function?"
   ]
  },
  {
   "cell_type": "code",
   "execution_count": null,
   "id": "b201db64",
   "metadata": {},
   "outputs": [],
   "source": [
    "# we need to import pprint module and need to use pprint.PrettyPrinter() function or pprint. pformat()"
   ]
  }
 ],
 "metadata": {
  "kernelspec": {
   "display_name": "Python 3 (ipykernel)",
   "language": "python",
   "name": "python3"
  },
  "language_info": {
   "codemirror_mode": {
    "name": "ipython",
    "version": 3
   },
   "file_extension": ".py",
   "mimetype": "text/x-python",
   "name": "python",
   "nbconvert_exporter": "python",
   "pygments_lexer": "ipython3",
   "version": "3.11.7"
  }
 },
 "nbformat": 4,
 "nbformat_minor": 5
}
