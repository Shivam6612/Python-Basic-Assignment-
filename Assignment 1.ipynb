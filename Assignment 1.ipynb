{
 "cells": [
  {
   "cell_type": "markdown",
   "id": "9e49b0c6",
   "metadata": {},
   "source": [
    "# 1. In the below elements which of them are values or an expression? eg:- values can be\n",
    "integer or string and expressions will be mathematical operators.\n",
    "\n",
    "*\n",
    "&#39;hello&#39;\n",
    "-87.8\n",
    "-\n",
    "/\n",
    "+\n",
    "6"
   ]
  },
  {
   "cell_type": "code",
   "execution_count": 3,
   "id": "d917928f",
   "metadata": {},
   "outputs": [],
   "source": [
    "#values are 6,-87.8\n",
    "#expressions are mathematiccal operators * - / + "
   ]
  },
  {
   "cell_type": "markdown",
   "id": "8e8ac74c",
   "metadata": {},
   "source": [
    "# 2. What is the difference between string and variable?"
   ]
  },
  {
   "cell_type": "code",
   "execution_count": 7,
   "id": "e0371d50",
   "metadata": {},
   "outputs": [],
   "source": [
    "a=\"this is a string\"\n",
    "# in this code a is variable which is storing a string in it\n",
    "#we cant use keywords and int as a variable and string always stores into quotes-'' , \"\""
   ]
  },
  {
   "cell_type": "markdown",
   "id": "135689c6",
   "metadata": {},
   "source": [
    "# 3. Describe three different data types."
   ]
  },
  {
   "cell_type": "code",
   "execution_count": 9,
   "id": "d2b5197b",
   "metadata": {},
   "outputs": [],
   "source": [
    "# Basic Type - int, float, complex, bool, string, bytes\n",
    "# Container Type - list, tuple, set, dict\n",
    "# User Defined - Class"
   ]
  },
  {
   "cell_type": "markdown",
   "id": "601914d3",
   "metadata": {},
   "source": [
    "# 4. What is an expression made up of? What do all expressions do?"
   ]
  },
  {
   "cell_type": "code",
   "execution_count": 10,
   "id": "61dde863",
   "metadata": {},
   "outputs": [],
   "source": [
    "# expressions are madeup of all operators which are airthmetic,relational,unary,bitwise,logical,assingment,membership,identifier operators."
   ]
  },
  {
   "cell_type": "markdown",
   "id": "3602e088",
   "metadata": {},
   "source": [
    "# 5. This assignment statements, like spam = 10. What is the difference between an expression and a statement?"
   ]
  },
  {
   "cell_type": "code",
   "execution_count": 14,
   "id": "db80cb64",
   "metadata": {
    "scrolled": true
   },
   "outputs": [],
   "source": [
    "#expression\n",
    "#expression can be evaluate in a single line\n",
    "#\"spam\"*10\n",
    "# it will give an output 'spamspamspamspamspamspamspamspamspamspam'\n",
    "#statement \n",
    "# a statement is used after a condition if the condtion is true than the statement will b executed we can give multiple line of statements in single condtion"
   ]
  },
  {
   "cell_type": "markdown",
   "id": "75fae4ec",
   "metadata": {},
   "source": [
    "# 6. After running the following code, what does the variable bacon contain?\n",
    "bacon = 22\n",
    "bacon + 1"
   ]
  },
  {
   "cell_type": "code",
   "execution_count": 17,
   "id": "d2632eff",
   "metadata": {},
   "outputs": [],
   "source": [
    "# after runnig this code the variable bancon will contain the same value 22 bbeacuse bacon+1 is not saved\n",
    "#if we want to save bacon+1 than we can write b=bacon+1 and if we print b we will get an output 23"
   ]
  },
  {
   "cell_type": "markdown",
   "id": "513c9276",
   "metadata": {},
   "source": [
    "# 7. What should the values of the following two terms be?\n",
    "&#39;spam&#39; + &#39;spamspam&#39;\n",
    "&#39;spam&#39; * 3"
   ]
  },
  {
   "cell_type": "code",
   "execution_count": 18,
   "id": "41d527e4",
   "metadata": {},
   "outputs": [],
   "source": [
    "# the output will be same in both terms 'spamspamspam'"
   ]
  },
  {
   "cell_type": "markdown",
   "id": "c0927053",
   "metadata": {},
   "source": [
    "# 8. Why is eggs a valid variable name while 100 is invalid?"
   ]
  },
  {
   "cell_type": "code",
   "execution_count": 19,
   "id": "030f747a",
   "metadata": {},
   "outputs": [],
   "source": [
    "# egggs is a valid variable name because it is not a keyword word or dont have any int number\n",
    "# 100 is a invalid variable because we cant use a int as a variable"
   ]
  },
  {
   "cell_type": "markdown",
   "id": "fca0ebef",
   "metadata": {},
   "source": [
    "# 9. What three functions can be used to get the integer, floating-point number, or string version of a value?"
   ]
  },
  {
   "cell_type": "code",
   "execution_count": 20,
   "id": "e5d8d6b5",
   "metadata": {},
   "outputs": [],
   "source": [
    "#int()\n",
    "#flaot()\n",
    "#str()\n",
    "# these three function can be used to get the version of value as int float and strig"
   ]
  },
  {
   "cell_type": "markdown",
   "id": "536e2cb9",
   "metadata": {},
   "source": [
    "# 10. Why does this expression cause an error? How can you fix it?\n",
    "&#39;I have eaten &#39; + 99 + &#39; burritos.&#39;"
   ]
  },
  {
   "cell_type": "code",
   "execution_count": 24,
   "id": "69232c88",
   "metadata": {},
   "outputs": [
    {
     "data": {
      "text/plain": [
       "'I have eaten 99 burritos.'"
      ]
     },
     "execution_count": 24,
     "metadata": {},
     "output_type": "execute_result"
    }
   ],
   "source": [
    "#'I have eaten ' + 99 + ' burritos.'\n",
    "#causing error because in this we are trying to concatenate a str and int\n",
    "#or we can use str() fun also\n",
    "'I have eaten ' + str(99) + ' burritos.'"
   ]
  },
  {
   "cell_type": "code",
   "execution_count": null,
   "id": "b4f0b2fb",
   "metadata": {},
   "outputs": [],
   "source": []
  }
 ],
 "metadata": {
  "kernelspec": {
   "display_name": "Python 3 (ipykernel)",
   "language": "python",
   "name": "python3"
  },
  "language_info": {
   "codemirror_mode": {
    "name": "ipython",
    "version": 3
   },
   "file_extension": ".py",
   "mimetype": "text/x-python",
   "name": "python",
   "nbconvert_exporter": "python",
   "pygments_lexer": "ipython3",
   "version": "3.11.7"
  }
 },
 "nbformat": 4,
 "nbformat_minor": 5
}
