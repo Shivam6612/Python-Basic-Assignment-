{
 "cells": [
  {
   "cell_type": "markdown",
   "id": "b20c8dbf",
   "metadata": {},
   "source": [
    "1. What are escape characters, and how do you use them?"
   ]
  },
  {
   "cell_type": "code",
   "execution_count": 3,
   "id": "69199878",
   "metadata": {},
   "outputs": [
    {
     "name": "stdout",
     "output_type": "stream",
     "text": [
      "Hello\n",
      "World\n",
      "Name:\tJohn\n",
      "6789\n",
      "Hello\bWorld\n",
      "C:\\Program Files\n",
      "She said, \"Hello!\"\n",
      "It's a nice day\n"
     ]
    }
   ],
   "source": [
    "# Newline\n",
    "print(\"Hello\\nWorld\")\n",
    "\n",
    "# Tab\n",
    "print(\"Name:\\tJohn\")\n",
    "\n",
    "# Carriage return\n",
    "print(\"12345\\r6789\")\n",
    "\n",
    "# Backspace\n",
    "print(\"Hello\\bWorld\")\n",
    "\n",
    "# Backslash\n",
    "print(\"C:\\\\Program Files\")\n",
    "\n",
    "# Double quote\n",
    "print(\"She said, \\\"Hello!\\\"\")\n",
    "\n",
    "# Single quote\n",
    "print('It\\'s a nice day')\n"
   ]
  },
  {
   "cell_type": "markdown",
   "id": "b4a2f604",
   "metadata": {},
   "source": [
    "2. What do the escape characters n and t stand for?"
   ]
  },
  {
   "cell_type": "code",
   "execution_count": 4,
   "id": "4fbd379b",
   "metadata": {},
   "outputs": [],
   "source": [
    "# \\n is used for new line  \\t is used for tab "
   ]
  },
  {
   "cell_type": "markdown",
   "id": "a43ad4f4",
   "metadata": {},
   "source": [
    "3. What is the way to include backslash characters in a string?"
   ]
  },
  {
   "cell_type": "code",
   "execution_count": null,
   "id": "f9f7486b",
   "metadata": {},
   "outputs": [],
   "source": [
    "# \\ is used to insert a inccorrect character in a string\n",
    "incorrect_str=\"this is \"python\" programmming\"\n",
    "correct_str=\"this is \\\"python\\\" programmming\""
   ]
  },
  {
   "cell_type": "markdown",
   "id": "aee29888",
   "metadata": {},
   "source": [
    "4. The string &quot;Howl&#39;s Moving Castle&quot; is a correct value. Why isn&#39;t the single quote character in the\n",
    "word Howl&#39;s not escaped a problem?"
   ]
  },
  {
   "cell_type": "code",
   "execution_count": 8,
   "id": "e6da0bee",
   "metadata": {},
   "outputs": [
    {
     "data": {
      "text/plain": [
       "\"Howl's Moving Castle\""
      ]
     },
     "execution_count": 8,
     "metadata": {},
     "output_type": "execute_result"
    }
   ],
   "source": [
    "\"Howl's Moving Castle\"\n",
    "# this is correct because we are using double quotes outside the string and single quote to represent the howl's which is not closing the quotes in middle of str \n",
    "# if we write in this way with single quotes it will raise a error -- 'Howl's Moving Castle'"
   ]
  },
  {
   "cell_type": "markdown",
   "id": "7826aa5b",
   "metadata": {},
   "source": [
    "5. How do you write a string of newlines if you don&#39;t want to use the n character?"
   ]
  },
  {
   "cell_type": "code",
   "execution_count": 9,
   "id": "740e0f42",
   "metadata": {},
   "outputs": [],
   "source": [
    "multi_line_str=\"\"\"\n",
    "we can use \n",
    "triple quotes \n",
    "to write multiple string\n",
    "lines without using \\n\n",
    "\n",
    "\"\"\""
   ]
  },
  {
   "cell_type": "markdown",
   "id": "faf48d12",
   "metadata": {},
   "source": [
    "6. What are the values of the given expressions?\n",
    "\n",
    "&#39;Hello, world!&#39;[1]\n",
    "\n",
    "&#39;Hello, world!&#39;[0:5]\n",
    "\n",
    "&#39;Hello, world!&#39;[:5]\n",
    "\n",
    "&#39;Hello, world!&#39;[3:]"
   ]
  },
  {
   "cell_type": "code",
   "execution_count": 10,
   "id": "880b9520",
   "metadata": {},
   "outputs": [
    {
     "data": {
      "text/plain": [
       "'e'"
      ]
     },
     "execution_count": 10,
     "metadata": {},
     "output_type": "execute_result"
    }
   ],
   "source": [
    "'Hello, world!'[1]"
   ]
  },
  {
   "cell_type": "code",
   "execution_count": 11,
   "id": "272bf649",
   "metadata": {},
   "outputs": [
    {
     "data": {
      "text/plain": [
       "'Hello'"
      ]
     },
     "execution_count": 11,
     "metadata": {},
     "output_type": "execute_result"
    }
   ],
   "source": [
    "'Hello, world!'[0:5]"
   ]
  },
  {
   "cell_type": "code",
   "execution_count": 12,
   "id": "99e2ce32",
   "metadata": {},
   "outputs": [
    {
     "data": {
      "text/plain": [
       "'Hello'"
      ]
     },
     "execution_count": 12,
     "metadata": {},
     "output_type": "execute_result"
    }
   ],
   "source": [
    "'Hello, world!'[:5]"
   ]
  },
  {
   "cell_type": "code",
   "execution_count": 13,
   "id": "325df4a2",
   "metadata": {},
   "outputs": [
    {
     "data": {
      "text/plain": [
       "'lo, world!'"
      ]
     },
     "execution_count": 13,
     "metadata": {},
     "output_type": "execute_result"
    }
   ],
   "source": [
    "'Hello, world!'[3:]"
   ]
  },
  {
   "cell_type": "markdown",
   "id": "a2f059c3",
   "metadata": {},
   "source": [
    "7. What are the values of the following expressions?\n",
    "\n",
    "&#39;Hello&#39;.upper()\n",
    "\n",
    "&#39;Hello&#39;.upper().isupper()\n",
    "\n",
    "&#39;Hello&#39;.upper().lower()"
   ]
  },
  {
   "cell_type": "code",
   "execution_count": 15,
   "id": "020f18be",
   "metadata": {},
   "outputs": [
    {
     "data": {
      "text/plain": [
       "'HELLO'"
      ]
     },
     "execution_count": 15,
     "metadata": {},
     "output_type": "execute_result"
    }
   ],
   "source": [
    "'Hello'.upper()  # convert str to upper case"
   ]
  },
  {
   "cell_type": "code",
   "execution_count": 16,
   "id": "6184aa7c",
   "metadata": {},
   "outputs": [
    {
     "data": {
      "text/plain": [
       "True"
      ]
     },
     "execution_count": 16,
     "metadata": {},
     "output_type": "execute_result"
    }
   ],
   "source": [
    "'Hello'.upper().isupper() #it convert str in upper case and than check it is or not"
   ]
  },
  {
   "cell_type": "code",
   "execution_count": 17,
   "id": "a40eba81",
   "metadata": {},
   "outputs": [
    {
     "data": {
      "text/plain": [
       "'hello'"
      ]
     },
     "execution_count": 17,
     "metadata": {},
     "output_type": "execute_result"
    }
   ],
   "source": [
    "'Hello'.upper().lower() #it convert str in upper case and then convert again in lower case"
   ]
  },
  {
   "cell_type": "markdown",
   "id": "18d177e2",
   "metadata": {},
   "source": [
    "8. What are the values of the following expressions?\n",
    "\n",
    "&#39;Remember, remember, the fifth of July.&#39;.split()\n",
    "\n",
    "&#39;-&#39;.join(&#39;There can only one.&#39;.split())"
   ]
  },
  {
   "cell_type": "code",
   "execution_count": 21,
   "id": "77d0ad0c",
   "metadata": {},
   "outputs": [
    {
     "data": {
      "text/plain": [
       "['Remember,', 'remember,', 'the', 'fifth', 'of', 'July.']"
      ]
     },
     "execution_count": 21,
     "metadata": {},
     "output_type": "execute_result"
    }
   ],
   "source": [
    "'Remember, remember, the fifth of July.'.split()    #split() by comma and convert it to list"
   ]
  },
  {
   "cell_type": "code",
   "execution_count": 27,
   "id": "d71de72c",
   "metadata": {},
   "outputs": [
    {
     "data": {
      "text/plain": [
       "'There-can-only-one.'"
      ]
     },
     "execution_count": 27,
     "metadata": {},
     "output_type": "execute_result"
    }
   ],
   "source": [
    "'-'.join('There can only one.'.split()) #the join  function will join each str with '-' and the data type will be str"
   ]
  },
  {
   "cell_type": "markdown",
   "id": "b9639256",
   "metadata": {},
   "source": [
    "9. What are the methods for right-justifying, left-justifying, and centering a string?"
   ]
  },
  {
   "cell_type": "code",
   "execution_count": 28,
   "id": "7761d285",
   "metadata": {},
   "outputs": [],
   "source": [
    "#for right justifier use:  rjust(width, fillchar)\n",
    "#for left justifier use :  ljust(width, fillchar)\n",
    "#for right justifier use : center(width, fillchar)"
   ]
  },
  {
   "cell_type": "markdown",
   "id": "c41170eb",
   "metadata": {},
   "source": [
    "10. What is the best way to remove whitespace characters from the start or end?"
   ]
  },
  {
   "cell_type": "code",
   "execution_count": 30,
   "id": "234131f3",
   "metadata": {},
   "outputs": [],
   "source": [
    "#strip() \n",
    "#trim() \n",
    "#fun can be used for to remove the white space character "
   ]
  },
  {
   "cell_type": "code",
   "execution_count": null,
   "id": "e1f6b725",
   "metadata": {},
   "outputs": [],
   "source": []
  }
 ],
 "metadata": {
  "kernelspec": {
   "display_name": "Python 3 (ipykernel)",
   "language": "python",
   "name": "python3"
  },
  "language_info": {
   "codemirror_mode": {
    "name": "ipython",
    "version": 3
   },
   "file_extension": ".py",
   "mimetype": "text/x-python",
   "name": "python",
   "nbconvert_exporter": "python",
   "pygments_lexer": "ipython3",
   "version": "3.11.7"
  }
 },
 "nbformat": 4,
 "nbformat_minor": 5
}
