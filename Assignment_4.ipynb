{
 "cells": [
  {
   "cell_type": "markdown",
   "id": "64862f7f",
   "metadata": {},
   "source": [
    "1. What exactly is []?"
   ]
  },
  {
   "cell_type": "code",
   "execution_count": 1,
   "id": "a6aa3eab",
   "metadata": {},
   "outputs": [
    {
     "data": {
      "text/plain": [
       "list"
      ]
     },
     "execution_count": 1,
     "metadata": {},
     "output_type": "execute_result"
    }
   ],
   "source": [
    "# this is a empty list . square brackets are used to define a list\n",
    "l=[]\n",
    "type(l)"
   ]
  },
  {
   "cell_type": "markdown",
   "id": "2ebab63e",
   "metadata": {},
   "source": [
    "2. In a list of values stored in a variable called spam, how would you assign the value &#39;hello&#39; as the\n",
    "third value? (Assume [2, 4, 6, 8, 10] are in spam.)\n",
    "\n"
   ]
  },
  {
   "cell_type": "code",
   "execution_count": 2,
   "id": "3be38a87",
   "metadata": {},
   "outputs": [
    {
     "name": "stdout",
     "output_type": "stream",
     "text": [
      "[2, 4, 'hello', 6, 8, 10]\n"
     ]
    }
   ],
   "source": [
    "spam=[2, 4, 6,8, 10]\n",
    "spam.insert(2,'hello')\n",
    "print(spam)"
   ]
  },
  {
   "cell_type": "markdown",
   "id": "f9b919cc",
   "metadata": {},
   "source": [
    "Let's pretend the spam includes the list ['a', 'b', 'c', 'd'] for the next three queries.\n",
    "\n",
    "3. What is the value of spam[int(int(&#39;3&#39; * 2) / 11)]?"
   ]
  },
  {
   "cell_type": "code",
   "execution_count": 3,
   "id": "df4e5b10",
   "metadata": {},
   "outputs": [
    {
     "data": {
      "text/plain": [
       "'d'"
      ]
     },
     "execution_count": 3,
     "metadata": {},
     "output_type": "execute_result"
    }
   ],
   "source": [
    "spam=['a', 'b', 'c', 'd']\n",
    "\n",
    "spam[int(int('3' * 2) / 11)]\n",
    "#it will show 'd\n",
    "\n",
    "#'3' * 2 repeats the string '3' two times, resulting in '33'.\n",
    "#int('33') converts the string '33' into the integer 33.'\n",
    "#divides the integer 33 by 11, which results in 3.0 (a float).\n",
    "#The int() function converts 3.0 (the float) back into the integer 3.\n",
    "#spam[3] accesses the element at index 3 in the list spam, which is 'd'"
   ]
  },
  {
   "cell_type": "markdown",
   "id": "d455917e",
   "metadata": {},
   "source": [
    "4. What is the value of spam[-1]?"
   ]
  },
  {
   "cell_type": "code",
   "execution_count": 4,
   "id": "35777f4c",
   "metadata": {},
   "outputs": [
    {
     "data": {
      "text/plain": [
       "'d'"
      ]
     },
     "execution_count": 4,
     "metadata": {},
     "output_type": "execute_result"
    }
   ],
   "source": [
    "spam[-1]\n",
    "\n",
    "#it give 'd' as output because d have the index value -1"
   ]
  },
  {
   "cell_type": "markdown",
   "id": "c70b31aa",
   "metadata": {},
   "source": [
    "5. What is the value of spam[:2]?"
   ]
  },
  {
   "cell_type": "code",
   "execution_count": 5,
   "id": "9867dc59",
   "metadata": {},
   "outputs": [
    {
     "data": {
      "text/plain": [
       "['a', 'b']"
      ]
     },
     "execution_count": 5,
     "metadata": {},
     "output_type": "execute_result"
    }
   ],
   "source": [
    "spam[:2]\n",
    "\n",
    "# this is known as slicing we can access list by slicing operations\n",
    "# the first value is 0 by default [0:2]\n",
    "# and the output always (n-1)  0 and 1 index values will be shown because of n-1 the third one is not visible in output"
   ]
  },
  {
   "cell_type": "markdown",
   "id": "a31f2240",
   "metadata": {},
   "source": [
    "Let&#39;s pretend bacon has the list [3.14, &#39;cat,&#39; 11, &#39;cat,&#39; True] for the next three questions."
   ]
  },
  {
   "cell_type": "markdown",
   "id": "e5ddb8f8",
   "metadata": {},
   "source": [
    "6. What is the value of bacon.index(&#39;cat&#39;)?"
   ]
  },
  {
   "cell_type": "code",
   "execution_count": 6,
   "id": "f250bd03",
   "metadata": {},
   "outputs": [
    {
     "data": {
      "text/plain": [
       "1"
      ]
     },
     "execution_count": 6,
     "metadata": {},
     "output_type": "execute_result"
    }
   ],
   "source": [
    "bacon =  [3.14, 'cat', 11, 'cat', True] \n",
    "bacon.index('cat')"
   ]
  },
  {
   "cell_type": "markdown",
   "id": "51bc8168",
   "metadata": {},
   "source": [
    "7. How does bacon.append(99) change the look of the list value in bacon?"
   ]
  },
  {
   "cell_type": "code",
   "execution_count": 7,
   "id": "e49175f6",
   "metadata": {},
   "outputs": [
    {
     "name": "stdout",
     "output_type": "stream",
     "text": [
      "[3.14, 'cat', 11, 'cat', True, 99]\n"
     ]
    }
   ],
   "source": [
    "#it insert a new value 99 at the end of the list\n",
    "bacon.append(99)\n",
    "\n",
    "print(bacon)#check "
   ]
  },
  {
   "cell_type": "markdown",
   "id": "34cf871d",
   "metadata": {},
   "source": [
    "8. How does bacon.remove(&#39;cat&#39;) change the look of the list in bacon?"
   ]
  },
  {
   "cell_type": "code",
   "execution_count": 8,
   "id": "16a1a145",
   "metadata": {},
   "outputs": [
    {
     "name": "stdout",
     "output_type": "stream",
     "text": [
      "[3.14, 11, 'cat', True, 99]\n"
     ]
    }
   ],
   "source": [
    "#it will remove the first occurence of 'cat' string\n",
    "bacon.remove('cat')\n",
    "\n",
    "print(bacon) #check"
   ]
  },
  {
   "cell_type": "markdown",
   "id": "356352b8",
   "metadata": {},
   "source": [
    "9. What are the list concatenation and list replication operators?"
   ]
  },
  {
   "cell_type": "code",
   "execution_count": 16,
   "id": "557e061e",
   "metadata": {},
   "outputs": [
    {
     "name": "stdout",
     "output_type": "stream",
     "text": [
      "[1, 2, 3, 4, 5, 6, 7, 8]\n",
      "[1, 2, 3, 4, 1, 2, 3, 4]\n"
     ]
    }
   ],
   "source": [
    "#list concatenation is used to concatenate 2 lists together\n",
    "l=[1,2,3,4]\n",
    "l2=[5,6,7,8]\n",
    "l3=l+l2    # l3 will contain a new list as concatenation of lists\n",
    "print(l3)   #concatenation\n",
    "#print(l+l2)  # concatenation\n",
    "\n",
    "#replication is used to repeat the same list multiple times \n",
    "print(l*2)   # it will be printed to times [1, 2, 3, 4, 1, 2, 3, 4]"
   ]
  },
  {
   "cell_type": "markdown",
   "id": "3d522ab4",
   "metadata": {},
   "source": [
    "10. What is difference between the list methods append() and insert()?"
   ]
  },
  {
   "cell_type": "code",
   "execution_count": 17,
   "id": "9c9f0c04",
   "metadata": {},
   "outputs": [],
   "source": [
    "#list append and insert method both are used to add new value in a list\n",
    "\n",
    "#append will add a new value at the end of the list\n",
    "#insert will add the value at the given index of the list"
   ]
  },
  {
   "cell_type": "markdown",
   "id": "b3b7bd0c",
   "metadata": {},
   "source": [
    "11. What are the two methods for removing items from a list?"
   ]
  },
  {
   "cell_type": "code",
   "execution_count": 18,
   "id": "c7567829",
   "metadata": {},
   "outputs": [],
   "source": [
    "# two methods  for removing items from a list are remove and pop"
   ]
  },
  {
   "cell_type": "markdown",
   "id": "8a5a9667",
   "metadata": {},
   "source": [
    "12. Describe how list values and string values are identical."
   ]
  },
  {
   "cell_type": "code",
   "execution_count": 19,
   "id": "4124c1e2",
   "metadata": {},
   "outputs": [],
   "source": [
    "# list values are stored into square bracktes []\n",
    "# string values are stored into quotes (single'',k double\"\" , triple for multi line string \"\"\"\"\"\")\n",
    "# the len() function to get the length of both lists and strings."
   ]
  },
  {
   "cell_type": "markdown",
   "id": "00ab5b16",
   "metadata": {},
   "source": [
    "13. What&#39;s the difference between tuples and lists?"
   ]
  },
  {
   "cell_type": "code",
   "execution_count": 20,
   "id": "296149f7",
   "metadata": {},
   "outputs": [],
   "source": [
    "#Tuples are immutable, while lists are mutable.\n",
    "#We can access elements in both.\n",
    "#Deleting or updating an element is not possible in tuples, but both operations can be performed on lists.\n",
    "#Tuples are stored in parentheses (), while lists are stored in square brackets []."
   ]
  },
  {
   "cell_type": "markdown",
   "id": "f4416c2d",
   "metadata": {},
   "source": [
    "14. How do you type a tuple value that only contains the integer 42?"
   ]
  },
  {
   "cell_type": "code",
   "execution_count": 26,
   "id": "403675b2",
   "metadata": {},
   "outputs": [
    {
     "name": "stdout",
     "output_type": "stream",
     "text": [
      "<class 'tuple'>\n",
      "<class 'tuple'>\n"
     ]
    }
   ],
   "source": [
    "# we can write a single value tuple by adding a single comma in it\n",
    "a=(42,)\n",
    "print(type(a))\n",
    "#also without parentheses\n",
    "b =42,\n",
    "print(type(b))"
   ]
  },
  {
   "cell_type": "markdown",
   "id": "5c51fb36",
   "metadata": {},
   "source": [
    "15. How do you get a list value&#39;s tuple form? How do you get a tuple value&#39;s list form?"
   ]
  },
  {
   "cell_type": "code",
   "execution_count": 30,
   "id": "fa9e62e3",
   "metadata": {},
   "outputs": [],
   "source": [
    "# we can convert a list into a tuple using the tuple() function.\n",
    "# we can use the list() function to convert a tuple into a list."
   ]
  },
  {
   "cell_type": "markdown",
   "id": "6ebeb349",
   "metadata": {},
   "source": [
    "16. Variables that &quot;contain&quot; list values are not necessarily lists themselves. Instead, what do they\n",
    "contain?"
   ]
  },
  {
   "cell_type": "code",
   "execution_count": 31,
   "id": "c811b90c",
   "metadata": {},
   "outputs": [
    {
     "name": "stdout",
     "output_type": "stream",
     "text": [
      "[99, 2, 3]\n",
      "[99, 2, 3]\n"
     ]
    }
   ],
   "source": [
    "a = [1, 2, 3]\n",
    "b = a  # Both 'a' and 'b' refer to the same list\n",
    "b[0] = 99\n",
    "\n",
    "print(a)  # Output: [99, 2, 3]\n",
    "print(b)  # Output: [99, 2, 3]\n",
    "\n",
    "\n",
    "#Variables that \"contain\" list values do not directly hold the list itself. they consist refference to the list object in memory"
   ]
  },
  {
   "cell_type": "markdown",
   "id": "7c568ab5",
   "metadata": {},
   "source": [
    "17. How do you distinguish between copy.copy() and copy.deepcopy()?"
   ]
  },
  {
   "cell_type": "code",
   "execution_count": 33,
   "id": "085a1850",
   "metadata": {},
   "outputs": [],
   "source": [
    "#Shallow copy creates a new object but does not recursively copy nested objects.\n",
    "#The top-level object is copied, but the elements within it still references to the original objects.\n",
    "\n",
    "# do a deep copy of a list. That is, only copy.deepcopy() will duplicate any lists inside the list."
   ]
  },
  {
   "cell_type": "code",
   "execution_count": null,
   "id": "c95510fc",
   "metadata": {},
   "outputs": [],
   "source": []
  }
 ],
 "metadata": {
  "kernelspec": {
   "display_name": "Python 3 (ipykernel)",
   "language": "python",
   "name": "python3"
  },
  "language_info": {
   "codemirror_mode": {
    "name": "ipython",
    "version": 3
   },
   "file_extension": ".py",
   "mimetype": "text/x-python",
   "name": "python",
   "nbconvert_exporter": "python",
   "pygments_lexer": "ipython3",
   "version": "3.11.7"
  }
 },
 "nbformat": 4,
 "nbformat_minor": 5
}
