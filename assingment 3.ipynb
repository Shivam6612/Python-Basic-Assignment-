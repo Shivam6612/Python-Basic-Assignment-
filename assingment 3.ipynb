{
 "cells": [
  {
   "cell_type": "markdown",
   "id": "56260fe5",
   "metadata": {},
   "source": [
    "1. Why are functions advantageous to have in your programs?"
   ]
  },
  {
   "cell_type": "code",
   "execution_count": null,
   "id": "03ced1bd",
   "metadata": {},
   "outputs": [],
   "source": [
    "# it increase the reuseability of a program\n",
    "# reduce duplacte program \n",
    "# it makes program more understandable or easy to read"
   ]
  },
  {
   "cell_type": "markdown",
   "id": "a053018d",
   "metadata": {},
   "source": [
    "2. When does the code in a function run: when it&#39;s specified or when it&#39;s called?"
   ]
  },
  {
   "cell_type": "code",
   "execution_count": 1,
   "id": "ff7439f9",
   "metadata": {},
   "outputs": [],
   "source": [
    "#the code runs when the function is called"
   ]
  },
  {
   "cell_type": "markdown",
   "id": "9acd16a0",
   "metadata": {},
   "source": [
    "3. What statement creates a function?"
   ]
  },
  {
   "cell_type": "code",
   "execution_count": 2,
   "id": "88085f3a",
   "metadata": {},
   "outputs": [],
   "source": [
    "#def keyword is used to create a function"
   ]
  },
  {
   "cell_type": "markdown",
   "id": "1fdbad65",
   "metadata": {},
   "source": [
    "4. What is the difference between a function and a function call?"
   ]
  },
  {
   "cell_type": "code",
   "execution_count": 3,
   "id": "f8ffac69",
   "metadata": {},
   "outputs": [],
   "source": [
    "#fucntion is used to increase reuseability and it makes program more understandable or easy to read\n",
    "#function call is used to call the function and run the code written inside a function"
   ]
  },
  {
   "cell_type": "markdown",
   "id": "5ce56e1f",
   "metadata": {},
   "source": [
    "5. How many global scopes are there in a Python program? How many local scopes?"
   ]
  },
  {
   "cell_type": "code",
   "execution_count": 6,
   "id": "2bad1abe",
   "metadata": {},
   "outputs": [],
   "source": [
    "# there are no global or local scopes in python\n",
    "# global variable can be accessed in each function we can create global scopes once and access multiple times\n",
    "# local variables can be created each time inside a function"
   ]
  },
  {
   "cell_type": "markdown",
   "id": "c781dfac",
   "metadata": {},
   "source": [
    "6. What happens to variables in a local scope when the function call returns?"
   ]
  },
  {
   "cell_type": "code",
   "execution_count": 7,
   "id": "b6c3307d",
   "metadata": {},
   "outputs": [],
   "source": [
    "#no scopes in python"
   ]
  },
  {
   "cell_type": "markdown",
   "id": "e60ebbaa",
   "metadata": {},
   "source": [
    "7. What is the concept of a return value? Is it possible to have a return value in an expression?"
   ]
  },
  {
   "cell_type": "code",
   "execution_count": 15,
   "id": "ec11a929",
   "metadata": {},
   "outputs": [
    {
     "data": {
      "text/plain": [
       "55"
      ]
     },
     "execution_count": 15,
     "metadata": {},
     "output_type": "execute_result"
    }
   ],
   "source": [
    "# return is used as print function to get a output. yes, return can be used for a value expression \n",
    "# we can use return function for each type of data types examples:  \n",
    "def sum():\n",
    "    a=12\n",
    "    b=43\n",
    "    return a+b\n",
    "#calling the function\n",
    "sum()"
   ]
  },
  {
   "cell_type": "markdown",
   "id": "69a1cef8",
   "metadata": {},
   "source": [
    "8. If a function does not have a return statement, what is the return value of a call to that function?"
   ]
  },
  {
   "cell_type": "code",
   "execution_count": 16,
   "id": "86db987a",
   "metadata": {},
   "outputs": [],
   "source": [
    "#If you don't explicitly return anything, the value will be None"
   ]
  },
  {
   "cell_type": "markdown",
   "id": "331b2d5a",
   "metadata": {},
   "source": [
    "9. How do you make a function variable refer to the global variable?"
   ]
  },
  {
   "cell_type": "code",
   "execution_count": 17,
   "id": "44e3cf59",
   "metadata": {},
   "outputs": [],
   "source": [
    "#we create a global variable outside the function and a local variable inside a function. In any case we have to create a global variable inside a function we can do it by using global keyword in it\n",
    "# example:\n",
    "globvar = 0\n",
    "\n",
    "def set_globvar_to_one():\n",
    "    global globvar    # Needed to modify global copy of globvar\n",
    "    globvar = 1\n"
   ]
  },
  {
   "cell_type": "markdown",
   "id": "76f10bed",
   "metadata": {},
   "source": [
    "10. What is the data type of None?"
   ]
  },
  {
   "cell_type": "code",
   "execution_count": 18,
   "id": "5972da7e",
   "metadata": {},
   "outputs": [],
   "source": [
    "# none is used to define the null value"
   ]
  },
  {
   "cell_type": "markdown",
   "id": "ac0320cf",
   "metadata": {},
   "source": [
    "11. What does the sentence import areallyourpetsnamederic do?"
   ]
  },
  {
   "cell_type": "code",
   "execution_count": null,
   "id": "1c388e3a",
   "metadata": {},
   "outputs": [],
   "source": []
  },
  {
   "cell_type": "markdown",
   "id": "2966041c",
   "metadata": {},
   "source": [
    "12. If you had a bacon() feature in a spam module, what would you call it after importing spam?"
   ]
  },
  {
   "cell_type": "code",
   "execution_count": 21,
   "id": "247d00d1",
   "metadata": {},
   "outputs": [],
   "source": [
    "# function can be called in this way spam.bacon()"
   ]
  },
  {
   "cell_type": "markdown",
   "id": "9ec3d262",
   "metadata": {},
   "source": [
    "13. What can you do to save a programme from crashing if it encounters an error?"
   ]
  },
  {
   "cell_type": "code",
   "execution_count": 24,
   "id": "1f9de203",
   "metadata": {},
   "outputs": [],
   "source": [
    "# i can use exception handling \n",
    "# to use it first import logging \n",
    "#by using exeception handeling we get a error message not crash in program"
   ]
  },
  {
   "cell_type": "markdown",
   "id": "c9c47d7d",
   "metadata": {},
   "source": [
    "14. What is the purpose of the try clause? What is the purpose of the except clause?"
   ]
  },
  {
   "cell_type": "code",
   "execution_count": 25,
   "id": "984562bf",
   "metadata": {},
   "outputs": [],
   "source": [
    "#The try clause is used to check if the program is working properly. If any error occurs while running the code, it skips the problematic part (it is used to test a block code for errors) and goes to the except clause, which displays an error message"
   ]
  },
  {
   "cell_type": "code",
   "execution_count": null,
   "id": "4556632a",
   "metadata": {},
   "outputs": [],
   "source": []
  }
 ],
 "metadata": {
  "kernelspec": {
   "display_name": "Python 3 (ipykernel)",
   "language": "python",
   "name": "python3"
  },
  "language_info": {
   "codemirror_mode": {
    "name": "ipython",
    "version": 3
   },
   "file_extension": ".py",
   "mimetype": "text/x-python",
   "name": "python",
   "nbconvert_exporter": "python",
   "pygments_lexer": "ipython3",
   "version": "3.11.7"
  }
 },
 "nbformat": 4,
 "nbformat_minor": 5
}
