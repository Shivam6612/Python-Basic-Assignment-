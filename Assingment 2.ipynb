{
 "cells": [
  {
   "cell_type": "markdown",
   "id": "e43f21bf",
   "metadata": {},
   "source": [
    "1.What are the two values of the Boolean data type? How do you write them?"
   ]
  },
  {
   "cell_type": "code",
   "execution_count": 1,
   "id": "75cc3ad0",
   "metadata": {},
   "outputs": [],
   "source": [
    "# there are two types of boolen data . True and False , Used to check that the given condition (eg: 5<4) is True or False"
   ]
  },
  {
   "cell_type": "markdown",
   "id": "a436e983",
   "metadata": {},
   "source": [
    "2. What are the three different types of Boolean operators?"
   ]
  },
  {
   "cell_type": "code",
   "execution_count": 2,
   "id": "8a62999c",
   "metadata": {},
   "outputs": [],
   "source": [
    "# Boolean operators are AND,OR,XOR"
   ]
  },
  {
   "cell_type": "markdown",
   "id": "fe2d4a9e",
   "metadata": {},
   "source": [
    "3. Make a list of each Boolean operator&#39;s truth tables (i.e. every possible combination of Boolean\n",
    "values for the operator and what it evaluate )."
   ]
  },
  {
   "cell_type": "code",
   "execution_count": 4,
   "id": "720649c6",
   "metadata": {},
   "outputs": [
    {
     "data": {
      "text/plain": [
       "'AND -- \\nTrue True -->> True\\nFalse True -->> False\\nTrue False -->> False\\nFalse False -->> False\\n\\n       \\nOR --  \\nFalse False -->> False\\nFalse True -->> True\\nTrue False -->> True\\nFalse False -->> True\\n\\nNOT -- \\nTrue -->> False\\nFalse -->> True'"
      ]
     },
     "execution_count": 4,
     "metadata": {},
     "output_type": "execute_result"
    }
   ],
   "source": [
    "\"\"\"AND -- \n",
    "True True -->> True\n",
    "False True -->> False\n",
    "True False -->> False\n",
    "False False -->> False\n",
    "\n",
    "       \n",
    "OR --  \n",
    "False False -->> False\n",
    "False True -->> True\n",
    "True False -->> True\n",
    "False False -->> True\n",
    "\n",
    "NOT -- \n",
    "True -->> False\n",
    "False -->> True\"\"\""
   ]
  },
  {
   "cell_type": "markdown",
   "id": "84630f42",
   "metadata": {},
   "source": [
    " 4. What are the values of the following expressions?\n",
    "(5 &gt; 4) and (3 == 5)\n",
    "not (5 &gt; 4)\n",
    "(5 &gt; 4) or (3 == 5)\n",
    "not ((5 &gt; 4) or (3 == 5))\n",
    "(True and True) and (True == False)\n",
    "(not False) or (not True)"
   ]
  },
  {
   "cell_type": "code",
   "execution_count": 5,
   "id": "be47e029",
   "metadata": {},
   "outputs": [],
   "source": [
    "#(5 > 4) and (3 == 5)  -->> False\n",
    "#not (5 > 4) -->> False\n",
    "# (5 > 4) or (3 == 5)  -->> True\n",
    "# not ((5 > 4) or (3 == 5)) -->> False\n",
    "# (True and True) and (True == False) -->> False\n",
    "# (not False) or (not True) -->> true"
   ]
  },
  {
   "cell_type": "markdown",
   "id": "4b537904",
   "metadata": {},
   "source": [
    "5. What are the six comparison operators?"
   ]
  },
  {
   "cell_type": "code",
   "execution_count": 8,
   "id": "8160b94e",
   "metadata": {},
   "outputs": [],
   "source": [
    "#the comparison operators are:\n",
    "\n",
    "#  != not  equal to : True when the left operand is not equal to the right operand x!y\n",
    "#   == is equal to  : True when the left and right operand both are equal x==y\n",
    "#   <  smaller than : True when the left operand is smaller than right operand x<y\n",
    "#   >  greater than : True when the left operand is greater than right operand x>y\n",
    "#   <= smaller than equal to :True when the left operand is smaller or equal to right operand x<=y\n",
    "#   >= greater than equal to : True when the left operand is greater or equal to right operand x>=y"
   ]
  },
  {
   "cell_type": "markdown",
   "id": "a5864874",
   "metadata": {},
   "source": [
    "6. How do you tell the difference between the equal to and assignment operators?Describe a\n",
    "condition and when you would use one."
   ]
  },
  {
   "cell_type": "code",
   "execution_count": 11,
   "id": "41d858cd",
   "metadata": {},
   "outputs": [
    {
     "name": "stdout",
     "output_type": "stream",
     "text": [
      "yes it is\n"
     ]
    }
   ],
   "source": [
    "# for 'equal to' operatpor we use double equal to sing and for assingment operators we use single equal to sing\n",
    "\n",
    "# to assing any variable to any value we use assingment operators\n",
    "variable=34\n",
    "\n",
    "# to check any condition we use equal to\n",
    "if type(variable)==int:\n",
    "    print(\"yes it is\")"
   ]
  },
  {
   "cell_type": "markdown",
   "id": "c69cebc4",
   "metadata": {},
   "source": [
    "7. Identify the three blocks in this code:\n",
    "spam = 0\n",
    "if spam == 10:\n",
    "print(&#39;eggs&#39;)\n",
    "if spam &gt; 5:\n",
    "print(&#39;bacon&#39;)\n",
    "else:\n",
    "print(&#39;ham&#39;)\n",
    "print(&#39;spam&#39;)\n",
    "print(&#39;spam&#39;)"
   ]
  },
  {
   "cell_type": "code",
   "execution_count": 14,
   "id": "72369bb9",
   "metadata": {},
   "outputs": [],
   "source": [
    "    #first block\n",
    "        print('eggs')\n",
    "    #second block\n",
    "        print('bacon') \n",
    "    #third block\n",
    "        print('ham') \n",
    "        print('ham') \n",
    "        print('spam')\n",
    "        print('spam')"
   ]
  },
  {
   "cell_type": "markdown",
   "id": "9de88e5d",
   "metadata": {},
   "source": [
    "8. Write code that prints Hello if 1 is stored in spam, prints Howdy if 2 is stored in spam, and prints\n",
    "Greetings! if anything else is stored in spam."
   ]
  },
  {
   "cell_type": "code",
   "execution_count": 20,
   "id": "22209e88",
   "metadata": {},
   "outputs": [
    {
     "name": "stdout",
     "output_type": "stream",
     "text": [
      "Hello\n"
     ]
    }
   ],
   "source": [
    "spam =1\n",
    "if spam==1:\n",
    "    print(\"Hello\")\n",
    "elif spam==2:\n",
    "    print(\"Howdy\")\n",
    "else:\n",
    "    print(\"Greetings!\")"
   ]
  },
  {
   "cell_type": "markdown",
   "id": "703b8c7b",
   "metadata": {},
   "source": [
    "9.If your programme is stuck in an endless loop, what keys you’ll press?"
   ]
  },
  {
   "cell_type": "code",
   "execution_count": 21,
   "id": "98c2792c",
   "metadata": {},
   "outputs": [],
   "source": [
    "# i will try to interrupt kernal with button or  shortcut key ctrl+c"
   ]
  },
  {
   "cell_type": "markdown",
   "id": "52331e8f",
   "metadata": {},
   "source": [
    "10. How can you tell the difference between break and continue?"
   ]
  },
  {
   "cell_type": "code",
   "execution_count": null,
   "id": "43315489",
   "metadata": {},
   "outputs": [],
   "source": [
    "# break statement is used to break loop when the condition is true and after breaking the loop it continued to the next statement\n",
    "#eg\n",
    "for i in range(5):\n",
    "    if i == 3:\n",
    "        break\n",
    "    print(i)\n",
    "\n",
    "# continue statements is used to skip the iteration, it doesnt stop it just skip the iteration and keep moving in loop\n",
    "for i in range(5):\n",
    "    if i == 3:\n",
    "        continue\n",
    "    print(i)\n"
   ]
  },
  {
   "cell_type": "markdown",
   "id": "74be39a1",
   "metadata": {},
   "source": [
    "11. In a for loop, what is the difference between range(10), range(0, 10), and range(0, 10, 1)?"
   ]
  },
  {
   "cell_type": "code",
   "execution_count": 26,
   "id": "5d743992",
   "metadata": {},
   "outputs": [],
   "source": [
    "#range(10)  defined only the ending point of the range . it contains 0 by default as starting value and run till fiven range\n",
    "#range(0,10) define the starting and ending of the range . it starts with the given starting range and ends at the given end range, it have default stepsizing as 1\n",
    "#range(0,10,1) define the startig,ending and stepsizing in the range . this starts with 0 and stepsize by 1 eg: 0,1,2,3,4 in given range"
   ]
  },
  {
   "cell_type": "markdown",
   "id": "c99ecb30",
   "metadata": {},
   "source": [
    "12. Write a short program that prints the numbers 1 to 10 using a for loop. Then write an equivalent\n",
    "program that prints the numbers 1 to 10 using a while loop."
   ]
  },
  {
   "cell_type": "code",
   "execution_count": 29,
   "id": "a58e9171",
   "metadata": {},
   "outputs": [
    {
     "name": "stdout",
     "output_type": "stream",
     "text": [
      "0\n",
      "1\n",
      "2\n",
      "3\n",
      "4\n",
      "5\n",
      "6\n",
      "7\n",
      "8\n",
      "9\n",
      "10\n"
     ]
    }
   ],
   "source": [
    "#by using for loop \n",
    "for i in range(0,11,1):\n",
    "    print(i)"
   ]
  },
  {
   "cell_type": "code",
   "execution_count": 30,
   "id": "ca0ce96d",
   "metadata": {},
   "outputs": [
    {
     "name": "stdout",
     "output_type": "stream",
     "text": [
      "0\n",
      "1\n",
      "2\n",
      "3\n",
      "4\n",
      "5\n",
      "6\n",
      "7\n",
      "8\n",
      "9\n",
      "10\n"
     ]
    }
   ],
   "source": [
    "#by using while loop\n",
    "s=0\n",
    "while s<=10:\n",
    "    print(s)\n",
    "    s+=1"
   ]
  },
  {
   "cell_type": "markdown",
   "id": "e76de1d7",
   "metadata": {},
   "source": [
    "13. If you had a function named bacon() inside a module named spam, how would you call it after\n",
    "importing spam?"
   ]
  },
  {
   "cell_type": "code",
   "execution_count": null,
   "id": "8435433d",
   "metadata": {},
   "outputs": [],
   "source": [
    "#import spam\n",
    "#spam.bacon()"
   ]
  }
 ],
 "metadata": {
  "kernelspec": {
   "display_name": "Python 3 (ipykernel)",
   "language": "python",
   "name": "python3"
  },
  "language_info": {
   "codemirror_mode": {
    "name": "ipython",
    "version": 3
   },
   "file_extension": ".py",
   "mimetype": "text/x-python",
   "name": "python",
   "nbconvert_exporter": "python",
   "pygments_lexer": "ipython3",
   "version": "3.11.7"
  }
 },
 "nbformat": 4,
 "nbformat_minor": 5
}
